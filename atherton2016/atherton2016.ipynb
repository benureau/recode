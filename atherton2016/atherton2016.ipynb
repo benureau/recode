{
 "cells": [
  {
   "cell_type": "code",
   "execution_count": null,
   "metadata": {},
   "outputs": [],
   "source": [
    "import numpy as np\n",
    "np.seterr(over='ignore') # np.exp(1000) returns float(inf) without warnings \n",
    "import graphs"
   ]
  },
  {
   "cell_type": "markdown",
   "metadata": {},
   "source": [
    "### Constants"
   ]
  },
  {
   "cell_type": "code",
   "execution_count": null,
   "metadata": {},
   "outputs": [],
   "source": [
    "g_Na    = 30\n",
    "g_K_DR  = 15\n",
    "g_Ca    = 10\n",
    "g_K_Ca  = 15\n",
    "g_K_AHP = 0.8\n",
    "g_C     = 2.1\n",
    "g_L     = 0.1\n",
    "\n",
    "V_Na =  60\n",
    "V_K  = -75\n",
    "V_Ca =  80\n",
    "V_L  = -60"
   ]
  },
  {
   "cell_type": "markdown",
   "metadata": {},
   "source": [
    "## Original formulation"
   ]
  },
  {
   "cell_type": "markdown",
   "metadata": {},
   "source": [
    "### function $m$"
   ]
  },
  {
   "cell_type": "code",
   "execution_count": null,
   "metadata": {},
   "outputs": [],
   "source": [
    "def α_m(V_s):\n",
    "    return 0.32 * (-46.9 - V_s) / (np.exp((-46.9 - V_s) / 4) - 1)\n",
    "\n",
    "def β_m(V_s):\n",
    "    return 0.28 * (V_s + 19.9) / (np.exp((V_s + 19.9) / 5) - 1)\n",
    "\n",
    "def τ_m(U):\n",
    "    return 1.0 / (α_m(U) + β_m(U))\n",
    "\n",
    "def m_infinity(U):\n",
    "    return α_m(U) / (α_m(U) + β_m(U))"
   ]
  },
  {
   "cell_type": "markdown",
   "metadata": {},
   "source": [
    "### function $n$"
   ]
  },
  {
   "cell_type": "code",
   "execution_count": null,
   "metadata": {},
   "outputs": [],
   "source": [
    "def α_n(V_s):\n",
    "    return 0.016 * (-24.9 - V_s) / (np.exp((-24.9 - V_s) / 5) - 1)\n",
    "\n",
    "def β_n(V_s):\n",
    "    return 0.25 * np.exp(-1 - 0.025 * V_s)\n",
    "\n",
    "def τ_n(U):\n",
    "    return 1.0 / (α_n(U) + β_n(U))\n",
    "\n",
    "def n_infinity(U):\n",
    "    return α_n(U) / (α_n(U) + β_n(U))"
   ]
  },
  {
   "cell_type": "markdown",
   "metadata": {},
   "source": [
    "### function $h$"
   ]
  },
  {
   "cell_type": "code",
   "execution_count": null,
   "metadata": {},
   "outputs": [],
   "source": [
    "def α_h(V_s):\n",
    "    return 0.128 * np.exp((-43 - V_s) / 18)\n",
    "\n",
    "def β_h(V_s):\n",
    "    return 4 / (1 + np.exp((-20 - V_s) / 5))\n",
    "\n",
    "def τ_h(U):\n",
    "    return 1.0 / (α_h(U) + β_h(U))\n",
    "\n",
    "def h_infinity(U):\n",
    "    return α_h(U) / (α_h(U) + β_h(U))"
   ]
  },
  {
   "cell_type": "markdown",
   "metadata": {},
   "source": [
    "### function $s$"
   ]
  },
  {
   "cell_type": "code",
   "execution_count": null,
   "metadata": {},
   "outputs": [],
   "source": [
    "def α_s(V_d):\n",
    "    return 1.6 / (1 + np.exp(-0.072 * (V_d - 5)))\n",
    "\n",
    "def β_s(V_d):\n",
    "    return 0.02 * (V_d + 8.9) / (np.exp((V_d + 8.9)/5) - 1)\n",
    "\n",
    "def τ_s(U):\n",
    "    return 1.0 / (α_s(U) + β_s(U))\n",
    "\n",
    "def s_infinity(U):\n",
    "    return α_s(U) / (α_s(U) + β_s(U))"
   ]
  },
  {
   "cell_type": "markdown",
   "metadata": {},
   "source": [
    "### function $c$"
   ]
  },
  {
   "cell_type": "code",
   "execution_count": null,
   "metadata": {},
   "outputs": [],
   "source": [
    "def H(U):\n",
    "    \"\"\"Heaviside step function\"\"\"\n",
    "    return 0.0 if U < 0 else 1.0        \n",
    "\n",
    "def α_c(V_d):\n",
    "    return ((1 - H(V_d + 10)) * np.exp((V_d + 50) / 11 - (V_d + 53.5)/27) / 18.975\n",
    "            + H(V_d + 10) * (2 * np.exp((-53.5 - V_d)/ 27)))\n",
    "            \n",
    "def β_c(V_d):\n",
    "    return (1 - H(V_d + 10)) * (2 * np.exp((-53.5 - V_d)/ 27) - α_c(V_d))\n",
    "\n",
    "def τ_c(U):\n",
    "    return 1.0 / (α_c(U) + β_c(U))\n",
    "\n",
    "def c_infinity(U):\n",
    "    return α_c(U) / (α_c(U) + β_c(U))"
   ]
  },
  {
   "cell_type": "markdown",
   "metadata": {},
   "source": [
    "### function $q$"
   ]
  },
  {
   "cell_type": "code",
   "execution_count": null,
   "metadata": {},
   "outputs": [],
   "source": [
    "def α_q(Ca):\n",
    "    return min(0.00002 * Ca, 0.01)\n",
    "\n",
    "def β_q(Ca):\n",
    "    return 0.001\n",
    "\n",
    "def τ_q(U):\n",
    "    return 1.0 / (α_q(U) + β_q(U))\n",
    "\n",
    "def q_infinity(U):\n",
    "    return α_q(U) / (α_q(U) + β_q(U))"
   ]
  },
  {
   "cell_type": "markdown",
   "metadata": {},
   "source": [
    "### function $χ$"
   ]
  },
  {
   "cell_type": "code",
   "execution_count": null,
   "metadata": {},
   "outputs": [],
   "source": [
    "def χ(Ca):\n",
    "    return min(Ca / 250, 1)"
   ]
  },
  {
   "cell_type": "markdown",
   "metadata": {},
   "source": [
    "## Continuous Approximation"
   ]
  },
  {
   "cell_type": "markdown",
   "metadata": {},
   "source": [
    "### function $c$"
   ]
  },
  {
   "cell_type": "code",
   "execution_count": null,
   "metadata": {},
   "outputs": [],
   "source": [
    "c_infinity_orig, τ_c_orig = c_infinity, τ_c  # keeping original ones around\n",
    "\n",
    "def τ_c(V_d):\n",
    "    return 3.627 * np.exp(0.03704 * V_d)\n",
    "\n",
    "def c_infinity(V_d):\n",
    "    return (1 / (1 + np.exp((-10.1 - V_d) / 0.1016)))**0.00925"
   ]
  },
  {
   "cell_type": "markdown",
   "metadata": {},
   "source": [
    "### function $q$"
   ]
  },
  {
   "cell_type": "code",
   "execution_count": null,
   "metadata": {},
   "outputs": [],
   "source": [
    "q_infinity_orig, τ_q_orig = q_infinity, τ_q \n",
    "\n",
    "def τ_q(Ca):\n",
    "    return 657.9 * np.exp(-0.02023 * Ca) + 301.8 * np.exp(-0.002381 * Ca)\n",
    "\n",
    "def q_infinity(Ca):\n",
    "    return 0.7894 * np.exp(0.0002726 * Ca) - 0.7292 * np.exp(-0.01672 * Ca)"
   ]
  },
  {
   "cell_type": "markdown",
   "metadata": {},
   "source": [
    "### function $χ$"
   ]
  },
  {
   "cell_type": "code",
   "execution_count": null,
   "metadata": {},
   "outputs": [],
   "source": [
    "χ_orig = χ\n",
    "\n",
    "def χ(Ca):\n",
    "    return (    1.073 * np.sin(0.003453 * Ca + 0.08095) \n",
    "            + 0.08408 * np.sin(0.01634  * Ca - 2.34)\n",
    "            + 0.01811 * np.sin(0.0348   * Ca - 0.9918))"
   ]
  },
  {
   "cell_type": "markdown",
   "metadata": {},
   "source": [
    "## Temporal update functions"
   ]
  },
  {
   "cell_type": "code",
   "execution_count": null,
   "metadata": {},
   "outputs": [],
   "source": [
    "# def update_intensities():\n",
    "#     \"\"\"Update the intensities variables\"\"\"\n",
    "    \n",
    "#     I_Na    = g_Na * m_infinity(V_s)**2 * h(V_s - V_Na)\n",
    "#     I_K_DR  = g_K_DR * n(V_s - V_K)\n",
    "#     I_Ca    = g_Ca * s(V_d - V_Ca)**2\n",
    "#     I_K_Ca  = g_K_Ca * c(χ(Ca) * (V_d - V_K))\n",
    "#     I_K_AHP = g_K_AHP * q (V_d - V_s)\n",
    "#     I_SD    = g_C * (V_d - V_s)\n",
    "#     I_Leak  = g_L * (V - V_L)\n",
    "    \n",
    "#     return I_Na, I_K_DR, I_Ca, I_K_Ca, I_K_AHP, I_SD, I_Leak"
   ]
  },
  {
   "cell_type": "code",
   "execution_count": null,
   "metadata": {},
   "outputs": [],
   "source": [
    "# class HH_fun:\n",
    "#     \"\"\"Hodgkin-Huxley function\"\"\"\n",
    "    \n",
    "#     def __init__(self, x_infinity, τ_x, V_0):\n",
    "#         self.x_infinity = x_infinity\n",
    "#         self.τ_x = τ_x\n",
    "#         self.V = V_0\n",
    "#         self.x = x_infinity(V_0) # steady state\n",
    "        \n",
    "#     def __call__(self, V):\n",
    "#         self.V = V\n",
    "#         return self.x\n",
    "    \n",
    "#     def integrate(self, dt):\n",
    "#         self.x += dt * (self.x_infinity(self.V) - x) / self.τ_x(V)"
   ]
  },
  {
   "cell_type": "markdown",
   "metadata": {
    "collapsed": true
   },
   "source": [
    "## Figure 1"
   ]
  },
  {
   "cell_type": "code",
   "execution_count": null,
   "metadata": {},
   "outputs": [],
   "source": [
    "V_d_s = np.linspace(-100, 100, 1001)\n",
    "c_inf_orig_s = [c_infinity_orig(V_d) for V_d in V_d_s]\n",
    "c_inf_s      = [c_infinity(V_d)      for V_d in V_d_s]\n",
    "τ_c_orig_s = [τ_c_orig(V_d) for V_d in V_d_s]\n",
    "τ_c_s      = [τ_c(V_d)      for V_d in V_d_s]"
   ]
  },
  {
   "cell_type": "code",
   "execution_count": null,
   "metadata": {},
   "outputs": [],
   "source": [
    "graphs.fig1a(V_d_s, c_inf_orig_s, c_inf_s, τ_c_orig_s, τ_c_s, title='c_∞ and τ_c', \n",
    "             y1_range=[0.0, 1.05], y2_range=[0, 160])"
   ]
  },
  {
   "cell_type": "code",
   "execution_count": null,
   "metadata": {},
   "outputs": [],
   "source": [
    "c_inf_err_abs = [abs(x_orig - x) for x_orig, x in zip(c_inf_orig_s, c_inf_s)]\n",
    "τ_c_err_rel = [abs(t_orig - t)/t_orig for t_orig, t in zip(τ_c_orig_s, τ_c_s)]\n",
    "graphs.fig1b(V_d_s, c_inf_err_abs, τ_c_err_rel, title='c_∞ and τ_c, approximation error')"
   ]
  },
  {
   "cell_type": "code",
   "execution_count": null,
   "metadata": {},
   "outputs": [],
   "source": [
    "Ca_s = np.linspace(0, 500, 1001)\n",
    "q_inf_orig_s = [q_infinity_orig(Ca_i) for Ca_i in Ca_s]\n",
    "q_inf_s      = [q_infinity(Ca_i)      for Ca_i in Ca_s]\n",
    "τ_q_orig_s = [τ_q_orig(Ca_i) for Ca_i in Ca_s]\n",
    "τ_q_s      = [τ_q(Ca_i)      for Ca_i in Ca_s]"
   ]
  },
  {
   "cell_type": "code",
   "execution_count": null,
   "metadata": {},
   "outputs": [],
   "source": [
    "graphs.fig1a(Ca_s, q_inf_orig_s, q_inf_s, τ_q_orig_s, τ_q_s, title='q_∞ and τ_q', \n",
    "             y1_range=[0.0, 1.05], y2_range=[0, 1000])"
   ]
  },
  {
   "cell_type": "code",
   "execution_count": null,
   "metadata": {},
   "outputs": [],
   "source": [
    "q_inf_err_abs = [abs(x_orig - x) for x_orig, x in zip(q_inf_orig_s, q_inf_s)]\n",
    "τ_q_err_rel = [abs(t_orig - t)/t_orig for t_orig, t in zip(τ_q_orig_s, τ_q_s)]\n",
    "graphs.fig1b(Ca_s, q_inf_err_abs, τ_q_err_rel, title='q_∞ and τ_q, approximation error')"
   ]
  },
  {
   "cell_type": "code",
   "execution_count": null,
   "metadata": {},
   "outputs": [],
   "source": [
    "χ_orig_s = [χ_orig(Ca_i) for Ca_i in Ca_s]\n",
    "χ_s      = [χ(Ca_i)      for Ca_i in Ca_s]"
   ]
  },
  {
   "cell_type": "code",
   "execution_count": null,
   "metadata": {},
   "outputs": [],
   "source": [
    "graphs.fig1a(Ca_s, χ_orig_s, χ_s, title='q_∞ and τ_q', y1_range=[0.0, 1.05])"
   ]
  },
  {
   "cell_type": "code",
   "execution_count": null,
   "metadata": {},
   "outputs": [],
   "source": [
    "χ_err_abs = [abs(x_orig - x) for x_orig, x in zip(χ_orig_s, χ_s)]\n",
    "graphs.fig1b(V_d_s, χ_err_abs, title='χ approximation error')"
   ]
  },
  {
   "cell_type": "markdown",
   "metadata": {},
   "source": [
    " "
   ]
  }
 ],
 "metadata": {
  "kernelspec": {
   "display_name": "Python 3",
   "language": "python",
   "name": "python3"
  },
  "language_info": {
   "codemirror_mode": {
    "name": "ipython",
    "version": 3
   },
   "file_extension": ".py",
   "mimetype": "text/x-python",
   "name": "python",
   "nbconvert_exporter": "python",
   "pygments_lexer": "ipython3",
   "version": "3.6.2"
  }
 },
 "nbformat": 4,
 "nbformat_minor": 1
}
